{
 "cells": [
  {
   "attachments": {},
   "cell_type": "markdown",
   "metadata": {},
   "source": [
    "# **1. Data Wrangling**"
   ]
  },
  {
   "attachments": {},
   "cell_type": "markdown",
   "metadata": {},
   "source": [
    "**Data Wrangling Summary**\n",
    "\n",
    "In the data wrangling section of this project, I focus on collecting, associating, defining, and cleaning the data to prepare it for further analysis. Here is a summary of the subsection within the data wrangling process:\n",
    "\n",
    "**1. Data Collection:**\n",
    "   - Gather data from two sources: ball-by-ball match data from Kaggle and salary data from the Cricmetric website.\n",
    "   - The match data provides detailed information about each IPL match from 2008 to 2021, while the salary data contains player salary information.\n",
    "   \n",
    "**2. Data Association:**\n",
    "   - Restrict analysis to the year for which we have salary data, excluding IPL 2021-22 from the ball-by-ball match data.\n",
    "   - Associate player names across the two datasets by identifying common identifiers, such as the full first name in the salary data.\n",
    "   \n",
    "**3. Data Definition and Cleaning:**\n",
    "   - The goal is to calculate the correlation between various features and player salary.\n",
    "   - Derive player statistics focusing on batting and bowling performances:\n",
    "     - Batting statistics include total runs, average, strike rate, 50s, 100s, etc.\n",
    "     - Bowling statistics include total wickets, average, economy rate, strike rate, 3 wicket hauls, 5 wicket hauls, 4s, 6s, etc.\n",
    "   - Consider general player statistics, such as the number of seasons played, total matches played in the previous season, previous-year team, and previous-year salary.\n",
    "   - Merge the various dataframes by player role, export, and save.\n",
    "   \n",
    "This data wrangling process allows us to transform and organize the data to facilitate correlation analysis and further exploration of the relationship between player performance and salary in the IPL."
   ]
  },
  {
   "attachments": {},
   "cell_type": "markdown",
   "metadata": {},
   "source": [
    "## Part 0: Import Modules"
   ]
  },
  {
   "cell_type": "code",
   "execution_count": 1,
   "metadata": {},
   "outputs": [],
   "source": [
    "import pandas as pd\n",
    "import numpy as np\n",
    "import matplotlib.pyplot as plt\n",
    "import pickle\n",
    "from ipywidgets import interact"
   ]
  },
  {
   "attachments": {},
   "cell_type": "markdown",
   "metadata": {},
   "source": [
    "## Part 1: Data Collection"
   ]
  },
  {
   "attachments": {},
   "cell_type": "markdown",
   "metadata": {},
   "source": [
    "There are two places from which I will collect the data:\n",
    "1. Ball-by-ball match data from https://www.kaggle.com/datasets/vora1011/ipl-2008-to-2021-all-match-dataset\n",
    "2. Salary data from http://www.cricmetric.com/ipl/salary/"
   ]
  },
  {
   "attachments": {},
   "cell_type": "markdown",
   "metadata": {},
   "source": [
    "### **(I) IPL ball-by ball data from Kaggle**\n",
    "\n",
    "For this section of the project, I can simply use the Kaggle API."
   ]
  },
  {
   "cell_type": "code",
   "execution_count": 5,
   "metadata": {},
   "outputs": [],
   "source": [
    "# configure the kaggle.json file which contains my API token information.\n",
    "!chmod 600 './kaggle/.kaggle/kaggle.json'"
   ]
  },
  {
   "cell_type": "code",
   "execution_count": 6,
   "metadata": {},
   "outputs": [
    {
     "name": "stdout",
     "output_type": "stream",
     "text": [
      "ipl-2008-to-2021-all-match-dataset.zip: Skipping, found more recently modified local copy (use --force to force download)\n"
     ]
    }
   ],
   "source": [
    "# Use the kaggle python library to access the API to download the dataset from Kaggle\n",
    "!kaggle datasets download -d vora1011/ipl-2008-to-2021-all-match-dataset -p ~/Downloads"
   ]
  },
  {
   "cell_type": "code",
   "execution_count": 7,
   "metadata": {},
   "outputs": [],
   "source": [
    "# relocate the download to my removable volume\n",
    "!cp '~/Downloads/ipl-2008-to-2021-all-match-dataset.zip' './ipl-player-salary/IPLData'\n"
   ]
  },
  {
   "cell_type": "code",
   "execution_count": 8,
   "metadata": {},
   "outputs": [
    {
     "name": "stdout",
     "output_type": "stream",
     "text": [
      "Archive:  /Volumes/My Passport for Mac/DataScienceCap2/IPLData/ipl-2008-to-2021-all-match-dataset.zip\n",
      "replace /Volumes/My Passport for Mac/DataScienceCap2/IPLData/IPL_Ball_by_Ball_2008_2022.csv? [y]es, [n]o, [A]ll, [N]one, [r]ename: ^C\n"
     ]
    }
   ],
   "source": [
    "# unzip the file\n",
    "!unzip './ipl-player-salary/IPLData/ipl-2008-to-2021-all-match-dataset.zip' -d './ipl-player-salary/IPLData/'"
   ]
  },
  {
   "cell_type": "code",
   "execution_count": 3,
   "metadata": {},
   "outputs": [],
   "source": [
    "# save the data in the pandas dataframes ball_data_full and match_data_full\n",
    "path_to_ball_data = \"./IPLData/IPL_Ball_by_Ball_2008_2022.csv\"\n",
    "path_to_match_data = \"./IPLData/IPL_Matches_2008_2022.csv\"\n",
    "\n",
    "df_ball_data_full = pd.read_csv(path_to_ball_data)\n",
    "\n",
    "# now we need to order this data by the player, since that is what we care about ultimately.\n",
    "df_ball_data_full = df_ball_data_full.sort_values('batter')\n",
    "\n",
    "df_match_data_full = pd.read_csv(path_to_match_data)"
   ]
  },
  {
   "attachments": {},
   "cell_type": "markdown",
   "metadata": {},
   "source": [
    "### **(II) Player Salary Data from CricMetric**\n",
    "\n",
    "Since CricMetric doesn't have an API, I will have to download the data directly from their website: http://www.cricmetric.com/ipl/salary/ \n",
    "\n",
    "I have stored the data in my removable volume."
   ]
  },
  {
   "cell_type": "code",
   "execution_count": 8,
   "metadata": {},
   "outputs": [],
   "source": [
    "def salary_data(year):\n",
    "    \n",
    "    '''Function to return the salary data of the inputted year as a pandas dataframe.'''\n",
    "\n",
    "    base_string = \"./IPLData/\"\n",
    "    added_string = \"ipl_salary_\" + str(year) + \".csv\"\n",
    "    basic_df = pd.read_csv(base_string + added_string)\n",
    "\n",
    "    basic_df =  basic_df.dropna(subset=['Player.1'])\n",
    "    basic_df = basic_df.assign(year=year)\n",
    "\n",
    "    return basic_df"
   ]
  },
  {
   "cell_type": "code",
   "execution_count": 9,
   "metadata": {},
   "outputs": [],
   "source": [
    "dfs = []\n",
    "for year in range(2008, 2022):\n",
    "    df = salary_data(year)\n",
    "    df['year'] = year\n",
    "    dfs.append(df)\n",
    "\n",
    "full_salary_df = pd.concat(dfs, ignore_index=True)\n",
    "full_salary_df = full_salary_df.sort_values(['Player', 'year'])"
   ]
  },
  {
   "attachments": {},
   "cell_type": "markdown",
   "metadata": {},
   "source": [
    "## Part 2: Data Association"
   ]
  },
  {
   "attachments": {},
   "cell_type": "markdown",
   "metadata": {},
   "source": [
    "### **(I) Restrict the ball-by-ball data**\n",
    "\n",
    "The first thing we need to do is to restrict ourselves to the years for which we have the salary data. This means we basically ignore the data from IPL 2021-22 in the dataframe `df_ball_data_full`."
   ]
  },
  {
   "cell_type": "code",
   "execution_count": 10,
   "metadata": {},
   "outputs": [],
   "source": [
    "merged_df = pd.merge(df_ball_data_full, df_match_data_full[['ID', 'Season']], on='ID')\n",
    "merged_df.dtypes\n",
    "\n",
    "merged_df['Season'] = merged_df['Season'].replace('2007/08', '2008')\n",
    "merged_df['Season'] = merged_df['Season'].replace('2009/10', '2010')\n",
    "merged_df['Season'] = merged_df['Season'].replace('2020/21', '2020')\n",
    "merged_df['Season'] = merged_df['Season'].astype(int)\n",
    "\n",
    "df_ball_data_restricted = merged_df[(merged_df['Season'] >= 2008) & (merged_df['Season'] <= 2020)].sort_values('batter')"
   ]
  },
  {
   "attachments": {},
   "cell_type": "markdown",
   "metadata": {},
   "source": [
    "### **(II) Player Names**\n",
    "\n",
    "The second thing we need to do is to associate the names in the dataframes. As we can see from the dataframes `full_salary_df` and `df_ball_data_full`, we need a way to associate the names across the two dataframes. Clearly, in `full_salary_df`, the full first name of the player is present only when the player name as represented by 'First Initial' + 'Last Name' is not unique. This should give us a method to associate the names across the dataframes."
   ]
  },
  {
   "cell_type": "code",
   "execution_count": 11,
   "metadata": {},
   "outputs": [
    {
     "name": "stdout",
     "output_type": "stream",
     "text": [
      "407\n"
     ]
    }
   ],
   "source": [
    "unique_players_salary = pd.DataFrame(full_salary_df.Player.unique())\n",
    "unique_players_bat = pd.DataFrame(df_ball_data_restricted.batter.unique())\n",
    "\n",
    "accounted_players_bat = []\n",
    "\n",
    "for player in unique_players_bat.values:\n",
    "    if player in unique_players_salary.values:\n",
    "        accounted_players_bat.append(player[0])\n",
    "    else:\n",
    "        pass\n",
    "\n",
    "print(len(accounted_players_bat))"
   ]
  },
  {
   "cell_type": "code",
   "execution_count": 12,
   "metadata": {},
   "outputs": [
    {
     "name": "stdout",
     "output_type": "stream",
     "text": [
      "There are no duplicates in accounted_players.\n"
     ]
    }
   ],
   "source": [
    "# First let us check that there are no duplicate players in this list:\n",
    "if len(accounted_players_bat) == len(set(accounted_players_bat)):\n",
    "    print(\"There are no duplicates in accounted_players.\")\n",
    "else:\n",
    "    print(\"There are duplicates in accounted_players.\")"
   ]
  },
  {
   "attachments": {},
   "cell_type": "markdown",
   "metadata": {},
   "source": [
    "Having verified that there are no duplicate players in this list, and given that we have 407 players, for this project, I will restrict my analysis to these 407 players. This will restrict our view to players who have faced at least one delivery in the match."
   ]
  },
  {
   "attachments": {},
   "cell_type": "markdown",
   "metadata": {},
   "source": [
    "## Part 3: Data Definition"
   ]
  },
  {
   "attachments": {},
   "cell_type": "markdown",
   "metadata": {},
   "source": [
    "### **(I) Player Statistics**"
   ]
  },
  {
   "attachments": {},
   "cell_type": "markdown",
   "metadata": {},
   "source": [
    "#### (A) Batting Statistics"
   ]
  },
  {
   "cell_type": "code",
   "execution_count": 26,
   "metadata": {},
   "outputs": [],
   "source": [
    "def batting_data(player, year):\n",
    "\n",
    "    batsman_data = df_ball_data_restricted[(df_ball_data_restricted['Season'] == year) &\n",
    "                                           (df_ball_data_restricted['batter'] == player)]\n",
    "    num_matches_played = batsman_data['ID'].nunique() \n",
    "    \n",
    "    if num_matches_played != 0:\n",
    "\n",
    "        total_runs = batsman_data['batsman_run'].sum()\n",
    "\n",
    "        if batsman_data['isWicketDelivery'].sum() != 0:\n",
    "            batting_avg = total_runs / batsman_data['isWicketDelivery'].sum()\n",
    "        else:\n",
    "            batting_avg = total_runs\n",
    "\n",
    "        balls_faced = len(batsman_data)\n",
    "        player_innings = batsman_data.groupby('ID')['batsman_run'].sum()\n",
    "\n",
    "        num4s = len(batsman_data[batsman_data['batsman_run'] == 4])\n",
    "        num6s = len(batsman_data[batsman_data['batsman_run'] == 6])\n",
    "        num_50 = sum((player_innings>=50)&(player_innings<100))\n",
    "        num_100 = sum(player_innings>=100)\n",
    "        \n",
    "        if balls_faced != 0:\n",
    "            strike_rate = (total_runs / balls_faced) * 100\n",
    "        else:\n",
    "            strike_rate = 0\n",
    "\n",
    "        # Create a dataframe with all the calculated data for the player in the given phase\n",
    "        batting_df = pd.DataFrame({'player': [player], 'season': [year], 'balls_faced': [balls_faced],\n",
    "                                   'total_runs': [total_runs], 'batting_avg': [batting_avg],\n",
    "                                   'strike_rate': [strike_rate], '50s': [num_50], '100s': [num_100], '4s': [num4s], '6s': [num6s]})\n",
    "        return batting_df\n",
    "    else:\n",
    "        return pd.DataFrame()"
   ]
  },
  {
   "cell_type": "code",
   "execution_count": 28,
   "metadata": {},
   "outputs": [],
   "source": [
    "batting = []\n",
    "\n",
    "for year in range(2008, 2021):    \n",
    "    unique_batters = list(df_ball_data_restricted[df_ball_data_restricted['Season'] == year]['batter'].unique())\n",
    "    for batter in unique_batters:\n",
    "        batting.append(batting_data(batter, year))\n",
    "\n",
    "batting_comb = pd.concat(batting, ignore_index=True)\n",
    "batting_comb = batting_comb.sort_values(['player', 'season', 'total_runs'], ascending=[True, True, False])"
   ]
  },
  {
   "attachments": {},
   "cell_type": "markdown",
   "metadata": {},
   "source": [
    "#### (B) Bowling Statistics"
   ]
  },
  {
   "cell_type": "code",
   "execution_count": 39,
   "metadata": {},
   "outputs": [],
   "source": [
    "def bowling_data(player, year):\n",
    "    bowler_data = df_ball_data_restricted[(df_ball_data_restricted['Season'] == year) &\n",
    "                                           (df_ball_data_restricted['bowler'] == player)]\n",
    "    num_matches_played = bowler_data['ID'].nunique() \n",
    "    \n",
    "    if num_matches_played != 0:\n",
    "        total_runs = bowler_data['total_run'].sum()\n",
    "        total_wickets = bowler_data['isWicketDelivery'].sum()\n",
    "        balls_bowled = len(bowler_data)\n",
    "        num4s = len(bowler_data[bowler_data['batsman_run'] == 4])\n",
    "        num6s = len(bowler_data[bowler_data['batsman_run'] == 6])\n",
    "        num_dots = len(bowler_data[bowler_data['total_run'] == 0])\n",
    "\n",
    "        bowler_innings = bowler_data.groupby('ID')['isWicketDelivery'].sum()\n",
    "        num_3whs = sum((bowler_innings>=3)&(bowler_innings<5))\n",
    "        num_5whs = sum(bowler_innings>=5)\n",
    "       \n",
    "        if total_wickets != 0 and balls_bowled != 0:\n",
    "            bowling_avg = total_runs / total_wickets\n",
    "            strike_rate = balls_bowled / total_wickets\n",
    "            economy = (total_runs / balls_bowled) * 6\n",
    "        else:\n",
    "            bowling_avg = total_runs\n",
    "            strike_rate = balls_bowled\n",
    "            economy = bowling_avg/strike_rate\n",
    "\n",
    "        # Create a dataframe with all the calculated data for the player in the given phase\n",
    "        bowling_df = pd.DataFrame({'player': [player], 'season': [year], 'balls_bowled': [balls_bowled], 'total_runs': [total_runs],\n",
    "                                   'total_wickets': [total_wickets], 'bowling_avg': [bowling_avg], 'economy': [economy],\n",
    "                                   'strike_rate': [strike_rate], '3whs': [num_3whs], '5whs': [num_5whs], 'dots': [num_dots],'4s': [num4s], '6s': [num6s]})\n",
    "        return bowling_df\n",
    "    else:\n",
    "        return pd.DataFrame()"
   ]
  },
  {
   "cell_type": "code",
   "execution_count": 40,
   "metadata": {},
   "outputs": [],
   "source": [
    "bowling = []\n",
    "\n",
    "for year in range(2008, 2021):    \n",
    "    unique_bowlers = list(df_ball_data_restricted[df_ball_data_restricted['Season'] == year]['bowler'].unique())\n",
    "    for bowler in unique_bowlers:\n",
    "        bowling.append(bowling_data(bowler, year))\n",
    "\n",
    "bowling_comb = pd.concat(bowling, ignore_index=True)\n",
    "bowling_comb = bowling_comb.sort_values(['player', 'season', 'total_wickets'], ascending=[True, True, False])"
   ]
  },
  {
   "attachments": {},
   "cell_type": "markdown",
   "metadata": {},
   "source": [
    "#### (C) General Player Statistics"
   ]
  },
  {
   "cell_type": "code",
   "execution_count": 51,
   "metadata": {},
   "outputs": [],
   "source": [
    "df_match_data_full['Season'] = df_match_data_full['Season'].replace('2007/08', '2008')\n",
    "df_match_data_full['Season'] = df_match_data_full['Season'].replace('2009/10', '2010')\n",
    "df_match_data_full['Season'] = df_match_data_full['Season'].replace('2020/21', '2020')\n",
    "df_match_data_full['Season'] = df_match_data_full['Season'].astype(int)\n",
    "\n",
    "df_match_data_restricted = df_match_data_full[df_match_data_full['Season'].isin(range(2008,2021))]\n",
    "batter_list = list(batting_comb['player'].unique())\n",
    "player_match_counts_df = pd.DataFrame(columns=['Player', 'Season', 'MatchCount'])\n",
    "for season in range(2008, 2021):\n",
    "    for player in batter_list:\n",
    "        # Filter the match data to find matches where the player played in the current season\n",
    "        matches_played = df_match_data_restricted[(df_match_data_restricted['Season'] == season) &\n",
    "                                                  ((df_match_data_restricted['Team1Players'].apply(lambda x: player in x)) |\n",
    "                                                   (df_match_data_restricted['Team2Players'].apply(lambda x: player in x)))]\n",
    "        match_count = len(matches_played)\n",
    "        player_match_counts_df = pd.concat([player_match_counts_df[player_match_counts_df['MatchCount'] > 0],\n",
    "                                            pd.DataFrame({'Player': player, 'Season': season, 'MatchCount': match_count}, index=[0])],\n",
    "                                           ignore_index=True)\n",
    "\n",
    "player_match_counts_df = player_match_counts_df.sort_values(['Player', 'Season'])\n",
    "player_match_counts_df['SeasonCount'] = player_match_counts_df.groupby('Player').cumcount() + 1\n",
    "player_match_counts_df = player_match_counts_df[player_match_counts_df['MatchCount'] > 0]"
   ]
  },
  {
   "cell_type": "code",
   "execution_count": 53,
   "metadata": {},
   "outputs": [
    {
     "name": "stderr",
     "output_type": "stream",
     "text": [
      "/var/folders/3s/6yq71yf16yq1y9c5zlss3syc0000gn/T/ipykernel_13869/392744986.py:4: FutureWarning: The default value of regex will change from True to False in a future version. In addition, single character regular expressions will *not* be treated as literal strings when regex=True.\n",
      "  general_comb['Salary'] = general_comb['Salary'].str.replace('$', '').str.replace(',', '').astype(int)\n"
     ]
    }
   ],
   "source": [
    "# Merge the player match counts dataframe and the full salary dataframe based on matching player and season\n",
    "general_comb = pd.merge(player_match_counts_df, full_salary_df, left_on=['Player', 'Season'], right_on=['Player', 'year'], how='inner')\n",
    "general_comb = general_comb[['Player', 'Season', 'MatchCount', 'SeasonCount', 'Team', 'Salary']]\n",
    "general_comb['Salary'] = general_comb['Salary'].str.replace('$', '').str.replace(',', '').astype(int)\n",
    "general_comb = general_comb.rename(columns={'Salary': 'SalaryUSD'})"
   ]
  },
  {
   "attachments": {},
   "cell_type": "markdown",
   "metadata": {},
   "source": [
    "I have scraped the rest of the data for the general player statistics, the role and the country of origin, from the CricMetric site. I then stored it in the file `player_country_role.txt`. The details of this can be found in the `WikiScrape.ipynb` file. "
   ]
  },
  {
   "cell_type": "code",
   "execution_count": 24,
   "metadata": {},
   "outputs": [],
   "source": [
    "# Apply the country_and_role function to each player name in the Player column\n",
    "len(list(general_comb['Player'].unique()))\n",
    "new_player_list = list(general_comb['Player'].unique())\n",
    "pkl_path = '../IPLData/new_player_list.pkl'\n",
    "\n",
    "# Save the list to a file\n",
    "with open(pkl_path, 'wb') as f:\n",
    "    pickle.dump(new_player_list, f)"
   ]
  },
  {
   "cell_type": "code",
   "execution_count": 55,
   "metadata": {},
   "outputs": [],
   "source": [
    "# define a filepath\n",
    "filepath = '../IPLData/player_country_role.txt'"
   ]
  },
  {
   "cell_type": "code",
   "execution_count": 56,
   "metadata": {},
   "outputs": [
    {
     "data": {
      "text/html": [
       "<div>\n",
       "<style scoped>\n",
       "    .dataframe tbody tr th:only-of-type {\n",
       "        vertical-align: middle;\n",
       "    }\n",
       "\n",
       "    .dataframe tbody tr th {\n",
       "        vertical-align: top;\n",
       "    }\n",
       "\n",
       "    .dataframe thead th {\n",
       "        text-align: right;\n",
       "    }\n",
       "</style>\n",
       "<table border=\"1\" class=\"dataframe\">\n",
       "  <thead>\n",
       "    <tr style=\"text-align: right;\">\n",
       "      <th></th>\n",
       "      <th>Player</th>\n",
       "      <th>Role</th>\n",
       "      <th>Country</th>\n",
       "    </tr>\n",
       "  </thead>\n",
       "  <tbody>\n",
       "    <tr>\n",
       "      <th>0</th>\n",
       "      <td>Mohammad Nabi</td>\n",
       "      <td>Allrounder</td>\n",
       "      <td>Afghanistan</td>\n",
       "    </tr>\n",
       "    <tr>\n",
       "      <th>1</th>\n",
       "      <td>Mujeeb Ur Rahman</td>\n",
       "      <td>Bowler</td>\n",
       "      <td>Afghanistan</td>\n",
       "    </tr>\n",
       "    <tr>\n",
       "      <th>2</th>\n",
       "      <td>Rashid Khan</td>\n",
       "      <td>Bowler</td>\n",
       "      <td>Afghanistan</td>\n",
       "    </tr>\n",
       "    <tr>\n",
       "      <th>3</th>\n",
       "      <td>A Zampa</td>\n",
       "      <td>Bowler</td>\n",
       "      <td>Australia</td>\n",
       "    </tr>\n",
       "    <tr>\n",
       "      <th>4</th>\n",
       "      <td>AJ Tye</td>\n",
       "      <td>Bowler</td>\n",
       "      <td>Australia</td>\n",
       "    </tr>\n",
       "  </tbody>\n",
       "</table>\n",
       "</div>"
      ],
      "text/plain": [
       "             Player        Role      Country\n",
       "0     Mohammad Nabi  Allrounder  Afghanistan\n",
       "1  Mujeeb Ur Rahman      Bowler  Afghanistan\n",
       "2       Rashid Khan      Bowler  Afghanistan\n",
       "3           A Zampa      Bowler    Australia\n",
       "4            AJ Tye      Bowler    Australia"
      ]
     },
     "execution_count": 56,
     "metadata": {},
     "output_type": "execute_result"
    }
   ],
   "source": [
    "# with the updated information, reset the dataframe:\n",
    "player_country_role_df = pd.read_csv(filepath, sep='\\t')\n",
    "player_country_role_df.head()"
   ]
  },
  {
   "cell_type": "code",
   "execution_count": 57,
   "metadata": {},
   "outputs": [],
   "source": [
    "# Merge the dataframes\n",
    "merged_general_comb = general_comb.merge(player_country_role_df, on='Player', how='left')\n",
    "merged_general_comb = merged_general_comb.sort_values('Player')"
   ]
  },
  {
   "attachments": {},
   "cell_type": "markdown",
   "metadata": {},
   "source": [
    "#### (D) Review\n",
    "\n",
    "I will use this section to take a look at the three dataframes that we have created."
   ]
  },
  {
   "cell_type": "code",
   "execution_count": 58,
   "metadata": {},
   "outputs": [
    {
     "data": {
      "text/html": [
       "<div>\n",
       "<style scoped>\n",
       "    .dataframe tbody tr th:only-of-type {\n",
       "        vertical-align: middle;\n",
       "    }\n",
       "\n",
       "    .dataframe tbody tr th {\n",
       "        vertical-align: top;\n",
       "    }\n",
       "\n",
       "    .dataframe thead th {\n",
       "        text-align: right;\n",
       "    }\n",
       "</style>\n",
       "<table border=\"1\" class=\"dataframe\">\n",
       "  <thead>\n",
       "    <tr style=\"text-align: right;\">\n",
       "      <th></th>\n",
       "      <th>player</th>\n",
       "      <th>season</th>\n",
       "      <th>balls_faced</th>\n",
       "      <th>total_runs</th>\n",
       "      <th>batting_avg</th>\n",
       "      <th>strike_rate</th>\n",
       "      <th>50s</th>\n",
       "      <th>100s</th>\n",
       "      <th>4s</th>\n",
       "      <th>6s</th>\n",
       "    </tr>\n",
       "  </thead>\n",
       "  <tbody>\n",
       "    <tr>\n",
       "      <th>648</th>\n",
       "      <td>A Ashish Reddy</td>\n",
       "      <td>2012</td>\n",
       "      <td>30</td>\n",
       "      <td>35</td>\n",
       "      <td>8.750000</td>\n",
       "      <td>116.666667</td>\n",
       "      <td>0</td>\n",
       "      <td>0</td>\n",
       "      <td>3</td>\n",
       "      <td>1</td>\n",
       "    </tr>\n",
       "    <tr>\n",
       "      <th>818</th>\n",
       "      <td>A Ashish Reddy</td>\n",
       "      <td>2013</td>\n",
       "      <td>90</td>\n",
       "      <td>125</td>\n",
       "      <td>20.833333</td>\n",
       "      <td>138.888889</td>\n",
       "      <td>0</td>\n",
       "      <td>0</td>\n",
       "      <td>8</td>\n",
       "      <td>5</td>\n",
       "    </tr>\n",
       "    <tr>\n",
       "      <th>1123</th>\n",
       "      <td>A Ashish Reddy</td>\n",
       "      <td>2015</td>\n",
       "      <td>46</td>\n",
       "      <td>73</td>\n",
       "      <td>24.333333</td>\n",
       "      <td>158.695652</td>\n",
       "      <td>0</td>\n",
       "      <td>0</td>\n",
       "      <td>3</td>\n",
       "      <td>5</td>\n",
       "    </tr>\n",
       "    <tr>\n",
       "      <th>1252</th>\n",
       "      <td>A Ashish Reddy</td>\n",
       "      <td>2016</td>\n",
       "      <td>30</td>\n",
       "      <td>47</td>\n",
       "      <td>23.500000</td>\n",
       "      <td>156.666667</td>\n",
       "      <td>0</td>\n",
       "      <td>0</td>\n",
       "      <td>2</td>\n",
       "      <td>4</td>\n",
       "    </tr>\n",
       "    <tr>\n",
       "      <th>649</th>\n",
       "      <td>A Chandila</td>\n",
       "      <td>2012</td>\n",
       "      <td>1</td>\n",
       "      <td>0</td>\n",
       "      <td>0.000000</td>\n",
       "      <td>0.000000</td>\n",
       "      <td>0</td>\n",
       "      <td>0</td>\n",
       "      <td>0</td>\n",
       "      <td>0</td>\n",
       "    </tr>\n",
       "  </tbody>\n",
       "</table>\n",
       "</div>"
      ],
      "text/plain": [
       "              player  season  balls_faced  total_runs  batting_avg  \\\n",
       "648   A Ashish Reddy    2012           30          35     8.750000   \n",
       "818   A Ashish Reddy    2013           90         125    20.833333   \n",
       "1123  A Ashish Reddy    2015           46          73    24.333333   \n",
       "1252  A Ashish Reddy    2016           30          47    23.500000   \n",
       "649       A Chandila    2012            1           0     0.000000   \n",
       "\n",
       "      strike_rate  50s  100s  4s  6s  \n",
       "648    116.666667    0     0   3   1  \n",
       "818    138.888889    0     0   8   5  \n",
       "1123   158.695652    0     0   3   5  \n",
       "1252   156.666667    0     0   2   4  \n",
       "649      0.000000    0     0   0   0  "
      ]
     },
     "execution_count": 58,
     "metadata": {},
     "output_type": "execute_result"
    }
   ],
   "source": [
    "batting_comb.head()"
   ]
  },
  {
   "cell_type": "code",
   "execution_count": 59,
   "metadata": {},
   "outputs": [
    {
     "data": {
      "text/html": [
       "<div>\n",
       "<style scoped>\n",
       "    .dataframe tbody tr th:only-of-type {\n",
       "        vertical-align: middle;\n",
       "    }\n",
       "\n",
       "    .dataframe tbody tr th {\n",
       "        vertical-align: top;\n",
       "    }\n",
       "\n",
       "    .dataframe thead th {\n",
       "        text-align: right;\n",
       "    }\n",
       "</style>\n",
       "<table border=\"1\" class=\"dataframe\">\n",
       "  <thead>\n",
       "    <tr style=\"text-align: right;\">\n",
       "      <th></th>\n",
       "      <th>player</th>\n",
       "      <th>season</th>\n",
       "      <th>balls_bowled</th>\n",
       "      <th>total_runs</th>\n",
       "      <th>total_wickets</th>\n",
       "      <th>bowling_avg</th>\n",
       "      <th>economy</th>\n",
       "      <th>strike_rate</th>\n",
       "      <th>3whs</th>\n",
       "      <th>5whs</th>\n",
       "      <th>dots</th>\n",
       "      <th>4s</th>\n",
       "      <th>6s</th>\n",
       "    </tr>\n",
       "  </thead>\n",
       "  <tbody>\n",
       "    <tr>\n",
       "      <th>493</th>\n",
       "      <td>A Ashish Reddy</td>\n",
       "      <td>2012</td>\n",
       "      <td>169</td>\n",
       "      <td>238</td>\n",
       "      <td>11</td>\n",
       "      <td>21.636364</td>\n",
       "      <td>8.449704</td>\n",
       "      <td>15.363636</td>\n",
       "      <td>1</td>\n",
       "      <td>0</td>\n",
       "      <td>55</td>\n",
       "      <td>14</td>\n",
       "      <td>12</td>\n",
       "    </tr>\n",
       "    <tr>\n",
       "      <th>648</th>\n",
       "      <td>A Ashish Reddy</td>\n",
       "      <td>2013</td>\n",
       "      <td>41</td>\n",
       "      <td>71</td>\n",
       "      <td>3</td>\n",
       "      <td>23.666667</td>\n",
       "      <td>10.390244</td>\n",
       "      <td>13.666667</td>\n",
       "      <td>0</td>\n",
       "      <td>0</td>\n",
       "      <td>10</td>\n",
       "      <td>7</td>\n",
       "      <td>3</td>\n",
       "    </tr>\n",
       "    <tr>\n",
       "      <th>868</th>\n",
       "      <td>A Ashish Reddy</td>\n",
       "      <td>2015</td>\n",
       "      <td>37</td>\n",
       "      <td>51</td>\n",
       "      <td>4</td>\n",
       "      <td>12.750000</td>\n",
       "      <td>8.270270</td>\n",
       "      <td>9.250000</td>\n",
       "      <td>0</td>\n",
       "      <td>0</td>\n",
       "      <td>9</td>\n",
       "      <td>1</td>\n",
       "      <td>3</td>\n",
       "    </tr>\n",
       "    <tr>\n",
       "      <th>980</th>\n",
       "      <td>A Ashish Reddy</td>\n",
       "      <td>2016</td>\n",
       "      <td>23</td>\n",
       "      <td>40</td>\n",
       "      <td>1</td>\n",
       "      <td>40.000000</td>\n",
       "      <td>10.434783</td>\n",
       "      <td>23.000000</td>\n",
       "      <td>0</td>\n",
       "      <td>0</td>\n",
       "      <td>5</td>\n",
       "      <td>4</td>\n",
       "      <td>2</td>\n",
       "    </tr>\n",
       "    <tr>\n",
       "      <th>512</th>\n",
       "      <td>A Chandila</td>\n",
       "      <td>2012</td>\n",
       "      <td>84</td>\n",
       "      <td>87</td>\n",
       "      <td>5</td>\n",
       "      <td>17.400000</td>\n",
       "      <td>6.214286</td>\n",
       "      <td>16.800000</td>\n",
       "      <td>1</td>\n",
       "      <td>0</td>\n",
       "      <td>39</td>\n",
       "      <td>3</td>\n",
       "      <td>6</td>\n",
       "    </tr>\n",
       "  </tbody>\n",
       "</table>\n",
       "</div>"
      ],
      "text/plain": [
       "             player  season  balls_bowled  total_runs  total_wickets  \\\n",
       "493  A Ashish Reddy    2012           169         238             11   \n",
       "648  A Ashish Reddy    2013            41          71              3   \n",
       "868  A Ashish Reddy    2015            37          51              4   \n",
       "980  A Ashish Reddy    2016            23          40              1   \n",
       "512      A Chandila    2012            84          87              5   \n",
       "\n",
       "     bowling_avg    economy  strike_rate  3whs  5whs  dots  4s  6s  \n",
       "493    21.636364   8.449704    15.363636     1     0    55  14  12  \n",
       "648    23.666667  10.390244    13.666667     0     0    10   7   3  \n",
       "868    12.750000   8.270270     9.250000     0     0     9   1   3  \n",
       "980    40.000000  10.434783    23.000000     0     0     5   4   2  \n",
       "512    17.400000   6.214286    16.800000     1     0    39   3   6  "
      ]
     },
     "execution_count": 59,
     "metadata": {},
     "output_type": "execute_result"
    }
   ],
   "source": [
    "bowling_comb.head()"
   ]
  },
  {
   "cell_type": "code",
   "execution_count": 60,
   "metadata": {},
   "outputs": [
    {
     "data": {
      "text/html": [
       "<div>\n",
       "<style scoped>\n",
       "    .dataframe tbody tr th:only-of-type {\n",
       "        vertical-align: middle;\n",
       "    }\n",
       "\n",
       "    .dataframe tbody tr th {\n",
       "        vertical-align: top;\n",
       "    }\n",
       "\n",
       "    .dataframe thead th {\n",
       "        text-align: right;\n",
       "    }\n",
       "</style>\n",
       "<table border=\"1\" class=\"dataframe\">\n",
       "  <thead>\n",
       "    <tr style=\"text-align: right;\">\n",
       "      <th></th>\n",
       "      <th>Player</th>\n",
       "      <th>Season</th>\n",
       "      <th>MatchCount</th>\n",
       "      <th>SeasonCount</th>\n",
       "      <th>Team</th>\n",
       "      <th>SalaryUSD</th>\n",
       "      <th>Role</th>\n",
       "      <th>Country</th>\n",
       "    </tr>\n",
       "  </thead>\n",
       "  <tbody>\n",
       "    <tr>\n",
       "      <th>0</th>\n",
       "      <td>A Ashish Reddy</td>\n",
       "      <td>2015</td>\n",
       "      <td>6</td>\n",
       "      <td>3</td>\n",
       "      <td>Sunrisers Hyderabad</td>\n",
       "      <td>33000</td>\n",
       "      <td>Bowler</td>\n",
       "      <td>Uncapped</td>\n",
       "    </tr>\n",
       "    <tr>\n",
       "      <th>1</th>\n",
       "      <td>A Ashish Reddy</td>\n",
       "      <td>2016</td>\n",
       "      <td>4</td>\n",
       "      <td>4</td>\n",
       "      <td>Sunrisers Hyderabad</td>\n",
       "      <td>33000</td>\n",
       "      <td>Bowler</td>\n",
       "      <td>Uncapped</td>\n",
       "    </tr>\n",
       "    <tr>\n",
       "      <th>2</th>\n",
       "      <td>A Choudhary</td>\n",
       "      <td>2017</td>\n",
       "      <td>5</td>\n",
       "      <td>1</td>\n",
       "      <td>Royal Challengers Bangalore</td>\n",
       "      <td>299000</td>\n",
       "      <td>Bowler</td>\n",
       "      <td>Uncapped</td>\n",
       "    </tr>\n",
       "    <tr>\n",
       "      <th>3</th>\n",
       "      <td>A Dananjaya</td>\n",
       "      <td>2018</td>\n",
       "      <td>1</td>\n",
       "      <td>1</td>\n",
       "      <td>Mumbai Indians</td>\n",
       "      <td>78130</td>\n",
       "      <td>Allrounder</td>\n",
       "      <td>Sri Lanka</td>\n",
       "    </tr>\n",
       "    <tr>\n",
       "      <th>4</th>\n",
       "      <td>A Flintoff</td>\n",
       "      <td>2009</td>\n",
       "      <td>3</td>\n",
       "      <td>1</td>\n",
       "      <td>Chennai Super Kings</td>\n",
       "      <td>1550000</td>\n",
       "      <td>Allrounder</td>\n",
       "      <td>England</td>\n",
       "    </tr>\n",
       "  </tbody>\n",
       "</table>\n",
       "</div>"
      ],
      "text/plain": [
       "           Player Season MatchCount  SeasonCount                         Team  \\\n",
       "0  A Ashish Reddy   2015          6            3          Sunrisers Hyderabad   \n",
       "1  A Ashish Reddy   2016          4            4          Sunrisers Hyderabad   \n",
       "2     A Choudhary   2017          5            1  Royal Challengers Bangalore   \n",
       "3     A Dananjaya   2018          1            1               Mumbai Indians   \n",
       "4      A Flintoff   2009          3            1          Chennai Super Kings   \n",
       "\n",
       "   SalaryUSD        Role    Country  \n",
       "0      33000      Bowler   Uncapped  \n",
       "1      33000      Bowler   Uncapped  \n",
       "2     299000      Bowler   Uncapped  \n",
       "3      78130  Allrounder  Sri Lanka  \n",
       "4    1550000  Allrounder    England  "
      ]
     },
     "execution_count": 60,
     "metadata": {},
     "output_type": "execute_result"
    }
   ],
   "source": [
    "merged_general_comb.head()"
   ]
  },
  {
   "cell_type": "code",
   "execution_count": 62,
   "metadata": {},
   "outputs": [
    {
     "data": {
      "text/html": [
       "<div>\n",
       "<style scoped>\n",
       "    .dataframe tbody tr th:only-of-type {\n",
       "        vertical-align: middle;\n",
       "    }\n",
       "\n",
       "    .dataframe tbody tr th {\n",
       "        vertical-align: top;\n",
       "    }\n",
       "\n",
       "    .dataframe thead th {\n",
       "        text-align: right;\n",
       "    }\n",
       "</style>\n",
       "<table border=\"1\" class=\"dataframe\">\n",
       "  <thead>\n",
       "    <tr style=\"text-align: right;\">\n",
       "      <th></th>\n",
       "      <th>player</th>\n",
       "      <th>season</th>\n",
       "      <th>balls_faced</th>\n",
       "      <th>total_runs</th>\n",
       "      <th>batting_avg</th>\n",
       "      <th>strike_rate</th>\n",
       "      <th>50s</th>\n",
       "      <th>100s</th>\n",
       "      <th>4s</th>\n",
       "      <th>6s</th>\n",
       "    </tr>\n",
       "  </thead>\n",
       "  <tbody>\n",
       "    <tr>\n",
       "      <th>1787</th>\n",
       "      <td>SM Curran</td>\n",
       "      <td>2019</td>\n",
       "      <td>55</td>\n",
       "      <td>95</td>\n",
       "      <td>23.75</td>\n",
       "      <td>172.727273</td>\n",
       "      <td>1</td>\n",
       "      <td>0</td>\n",
       "      <td>13</td>\n",
       "      <td>3</td>\n",
       "    </tr>\n",
       "    <tr>\n",
       "      <th>1917</th>\n",
       "      <td>SM Curran</td>\n",
       "      <td>2020</td>\n",
       "      <td>145</td>\n",
       "      <td>186</td>\n",
       "      <td>23.25</td>\n",
       "      <td>128.275862</td>\n",
       "      <td>1</td>\n",
       "      <td>0</td>\n",
       "      <td>12</td>\n",
       "      <td>12</td>\n",
       "    </tr>\n",
       "  </tbody>\n",
       "</table>\n",
       "</div>"
      ],
      "text/plain": [
       "         player  season  balls_faced  total_runs  batting_avg  strike_rate  \\\n",
       "1787  SM Curran    2019           55          95        23.75   172.727273   \n",
       "1917  SM Curran    2020          145         186        23.25   128.275862   \n",
       "\n",
       "      50s  100s  4s  6s  \n",
       "1787    1     0  13   3  \n",
       "1917    1     0  12  12  "
      ]
     },
     "execution_count": 62,
     "metadata": {},
     "output_type": "execute_result"
    }
   ],
   "source": [
    "batting_comb[batting_comb['player']=='SM Curran']"
   ]
  },
  {
   "cell_type": "code",
   "execution_count": 63,
   "metadata": {},
   "outputs": [
    {
     "data": {
      "text/html": [
       "<div>\n",
       "<style scoped>\n",
       "    .dataframe tbody tr th:only-of-type {\n",
       "        vertical-align: middle;\n",
       "    }\n",
       "\n",
       "    .dataframe tbody tr th {\n",
       "        vertical-align: top;\n",
       "    }\n",
       "\n",
       "    .dataframe thead th {\n",
       "        text-align: right;\n",
       "    }\n",
       "</style>\n",
       "<table border=\"1\" class=\"dataframe\">\n",
       "  <thead>\n",
       "    <tr style=\"text-align: right;\">\n",
       "      <th></th>\n",
       "      <th>player</th>\n",
       "      <th>season</th>\n",
       "      <th>balls_bowled</th>\n",
       "      <th>total_runs</th>\n",
       "      <th>total_wickets</th>\n",
       "      <th>bowling_avg</th>\n",
       "      <th>economy</th>\n",
       "      <th>strike_rate</th>\n",
       "      <th>3whs</th>\n",
       "      <th>5whs</th>\n",
       "      <th>dots</th>\n",
       "      <th>4s</th>\n",
       "      <th>6s</th>\n",
       "    </tr>\n",
       "  </thead>\n",
       "  <tbody>\n",
       "    <tr>\n",
       "      <th>1265</th>\n",
       "      <td>SM Curran</td>\n",
       "      <td>2019</td>\n",
       "      <td>207</td>\n",
       "      <td>325</td>\n",
       "      <td>11</td>\n",
       "      <td>29.545455</td>\n",
       "      <td>9.420290</td>\n",
       "      <td>18.818182</td>\n",
       "      <td>2</td>\n",
       "      <td>0</td>\n",
       "      <td>58</td>\n",
       "      <td>31</td>\n",
       "      <td>12</td>\n",
       "    </tr>\n",
       "    <tr>\n",
       "      <th>1392</th>\n",
       "      <td>SM Curran</td>\n",
       "      <td>2020</td>\n",
       "      <td>265</td>\n",
       "      <td>348</td>\n",
       "      <td>14</td>\n",
       "      <td>24.857143</td>\n",
       "      <td>7.879245</td>\n",
       "      <td>18.928571</td>\n",
       "      <td>2</td>\n",
       "      <td>0</td>\n",
       "      <td>87</td>\n",
       "      <td>36</td>\n",
       "      <td>8</td>\n",
       "    </tr>\n",
       "  </tbody>\n",
       "</table>\n",
       "</div>"
      ],
      "text/plain": [
       "         player  season  balls_bowled  total_runs  total_wickets  bowling_avg  \\\n",
       "1265  SM Curran    2019           207         325             11    29.545455   \n",
       "1392  SM Curran    2020           265         348             14    24.857143   \n",
       "\n",
       "       economy  strike_rate  3whs  5whs  dots  4s  6s  \n",
       "1265  9.420290    18.818182     2     0    58  31  12  \n",
       "1392  7.879245    18.928571     2     0    87  36   8  "
      ]
     },
     "execution_count": 63,
     "metadata": {},
     "output_type": "execute_result"
    }
   ],
   "source": [
    "bowling_comb[bowling_comb['player']=='SM Curran']"
   ]
  },
  {
   "cell_type": "code",
   "execution_count": 65,
   "metadata": {},
   "outputs": [
    {
     "data": {
      "text/html": [
       "<div>\n",
       "<style scoped>\n",
       "    .dataframe tbody tr th:only-of-type {\n",
       "        vertical-align: middle;\n",
       "    }\n",
       "\n",
       "    .dataframe tbody tr th {\n",
       "        vertical-align: top;\n",
       "    }\n",
       "\n",
       "    .dataframe thead th {\n",
       "        text-align: right;\n",
       "    }\n",
       "</style>\n",
       "<table border=\"1\" class=\"dataframe\">\n",
       "  <thead>\n",
       "    <tr style=\"text-align: right;\">\n",
       "      <th></th>\n",
       "      <th>Player</th>\n",
       "      <th>Country</th>\n",
       "      <th>Role</th>\n",
       "      <th>Season</th>\n",
       "      <th>Team</th>\n",
       "      <th>SalaryUSD</th>\n",
       "      <th>MatchCount</th>\n",
       "      <th>SeasonCount</th>\n",
       "    </tr>\n",
       "  </thead>\n",
       "  <tbody>\n",
       "    <tr>\n",
       "      <th>1248</th>\n",
       "      <td>SM Curran</td>\n",
       "      <td>England</td>\n",
       "      <td>Allrounder</td>\n",
       "      <td>2019</td>\n",
       "      <td>Kings XI Punjab</td>\n",
       "      <td>1028600</td>\n",
       "      <td>9</td>\n",
       "      <td>1</td>\n",
       "    </tr>\n",
       "    <tr>\n",
       "      <th>1249</th>\n",
       "      <td>SM Curran</td>\n",
       "      <td>England</td>\n",
       "      <td>Allrounder</td>\n",
       "      <td>2020</td>\n",
       "      <td>Chennai Super Kings</td>\n",
       "      <td>785700</td>\n",
       "      <td>14</td>\n",
       "      <td>2</td>\n",
       "    </tr>\n",
       "  </tbody>\n",
       "</table>\n",
       "</div>"
      ],
      "text/plain": [
       "         Player  Country        Role Season                 Team  SalaryUSD  \\\n",
       "1248  SM Curran  England  Allrounder   2019      Kings XI Punjab    1028600   \n",
       "1249  SM Curran  England  Allrounder   2020  Chennai Super Kings     785700   \n",
       "\n",
       "     MatchCount  SeasonCount  \n",
       "1248          9            1  \n",
       "1249         14            2  "
      ]
     },
     "execution_count": 65,
     "metadata": {},
     "output_type": "execute_result"
    }
   ],
   "source": [
    "merged_general_comb = merged_general_comb[['Player', 'Country', 'Role', 'Season', 'Team', 'SalaryUSD', 'MatchCount', 'SeasonCount']]\n",
    "merged_general_comb[merged_general_comb['Player']=='SM Curran'].sort_values('Season')"
   ]
  },
  {
   "attachments": {},
   "cell_type": "markdown",
   "metadata": {},
   "source": [
    "### **(III) Final Merging by Player Role**"
   ]
  },
  {
   "attachments": {},
   "cell_type": "markdown",
   "metadata": {},
   "source": [
    "In this section, I will merge the three dataframes by player role."
   ]
  },
  {
   "cell_type": "code",
   "execution_count": 66,
   "metadata": {},
   "outputs": [],
   "source": [
    "# First we filter merged_general_comb for any player role that includes some string 'role'\n",
    "def filtered_merged_general_comb(role):\n",
    "    return merged_general_comb[merged_general_comb['Role'].str.contains(role, case=False)]"
   ]
  },
  {
   "cell_type": "code",
   "execution_count": 69,
   "metadata": {},
   "outputs": [
    {
     "name": "stdout",
     "output_type": "stream",
     "text": [
      "146\n"
     ]
    }
   ],
   "source": [
    "# Check the number of common players\n",
    "unique_batters_merged_general_comb = filtered_merged_general_comb('batsman')['Player'].unique()\n",
    "unique_players_batting_comb = batting_comb['player'].unique()\n",
    "\n",
    "common_players = np.intersect1d(unique_batters_merged_general_comb, unique_players_batting_comb)\n",
    "count_common_players = len(common_players)\n",
    "print(count_common_players)"
   ]
  },
  {
   "cell_type": "code",
   "execution_count": 70,
   "metadata": {},
   "outputs": [
    {
     "name": "stdout",
     "output_type": "stream",
     "text": [
      "153\n"
     ]
    }
   ],
   "source": [
    "# Check the number of common players\n",
    "unique_bowlers_merged_general_comb = filtered_merged_general_comb('Bowler')['Player'].unique()\n",
    "unique_players_bowling_comb = bowling_comb['player'].unique()\n",
    "\n",
    "common_players = np.intersect1d(unique_bowlers_merged_general_comb, unique_players_bowling_comb)\n",
    "count_common_players = len(common_players)\n",
    "print(count_common_players)"
   ]
  },
  {
   "cell_type": "code",
   "execution_count": 71,
   "metadata": {},
   "outputs": [
    {
     "name": "stdout",
     "output_type": "stream",
     "text": [
      "99 96 96 96\n"
     ]
    }
   ],
   "source": [
    "# Check the number of common players\n",
    "unique_allrounders_merged_general_comb = filtered_merged_general_comb('Allrounder')['Player'].unique()\n",
    "\n",
    "common_players_bat = np.intersect1d(unique_allrounders_merged_general_comb, unique_players_batting_comb)\n",
    "common_players_bowl = np.intersect1d(unique_allrounders_merged_general_comb, unique_players_bowling_comb)\n",
    "count_bat = len(common_players_bat)\n",
    "count_bowl = len(common_players_bowl)\n",
    "\n",
    "common_players = np.intersect1d(np.intersect1d(unique_allrounders_merged_general_comb, unique_players_batting_comb), unique_players_bowling_comb)\n",
    "count_common_players = np.intersect1d(common_players, common_players_bowl)\n",
    "\n",
    "print(count_bat, count_bowl, len(common_players), len(count_common_players))\n",
    "# From this, we can deduce that all the players in the bowling df with the role 'allrounder' will appear in the other dataframes"
   ]
  },
  {
   "attachments": {},
   "cell_type": "markdown",
   "metadata": {},
   "source": [
    "### (A) Batters"
   ]
  },
  {
   "cell_type": "code",
   "execution_count": 84,
   "metadata": {},
   "outputs": [],
   "source": [
    "# Perform a left merge on 'Player' and 'player' columns, as well as 'Season'\n",
    "batter_data = filtered_merged_general_comb('batsman').merge(batting_comb, left_on=['Player', 'Season'], right_on=['player', 'season'], how='left')\n",
    "batter_data = batter_data.drop(['player', 'season'], axis=1).sort_values(['Player', 'Season'])"
   ]
  },
  {
   "cell_type": "code",
   "execution_count": 86,
   "metadata": {},
   "outputs": [],
   "source": [
    "# Perform a left merge on 'Player' and 'player' columns for the bowling data\n",
    "ar_data_bat = filtered_merged_general_comb('Allrounder').merge(batting_comb, left_on=['Player', 'Season'], right_on=['player', 'season'])\n",
    "ar_data_bat = ar_data_bat.drop(['player', 'season'], axis=1).sort_values(['Player', 'Season'])"
   ]
  },
  {
   "cell_type": "code",
   "execution_count": 90,
   "metadata": {},
   "outputs": [],
   "source": [
    "merged_batter_data = pd.concat([batter_data, ar_data_bat])"
   ]
  },
  {
   "cell_type": "code",
   "execution_count": 91,
   "metadata": {},
   "outputs": [],
   "source": [
    "batter_pkl_path = '../FinalDFs/PostWrangling/batting_merged.pkl'\n",
    "with open(batter_pkl_path, 'wb') as f:\n",
    "    pickle.dump(merged_batter_data, f)"
   ]
  },
  {
   "attachments": {},
   "cell_type": "markdown",
   "metadata": {},
   "source": [
    "### (B) Bowlers"
   ]
  },
  {
   "cell_type": "code",
   "execution_count": 92,
   "metadata": {},
   "outputs": [],
   "source": [
    "bowler_data = filtered_merged_general_comb('Bowler').merge(bowling_comb, left_on=['Player', 'Season'], right_on=['player', 'season'], how='left')\n",
    "bowler_data = bowler_data.drop(['player', 'season'], axis=1).sort_values(['Player', 'Season'])"
   ]
  },
  {
   "cell_type": "code",
   "execution_count": 94,
   "metadata": {},
   "outputs": [],
   "source": [
    "ar_data_bowl = filtered_merged_general_comb('Allrounder').merge(bowling_comb, left_on=['Player', 'Season'], right_on=['player', 'season'])\n",
    "ar_data_bowl = ar_data_bowl.drop(['player', 'season'], axis=1).sort_values(['Player', 'Season'])"
   ]
  },
  {
   "cell_type": "code",
   "execution_count": 95,
   "metadata": {},
   "outputs": [],
   "source": [
    "merged_bowler_data = pd.concat([bowler_data, ar_data_bowl])"
   ]
  },
  {
   "cell_type": "code",
   "execution_count": 97,
   "metadata": {},
   "outputs": [],
   "source": [
    "bowler_pkl_path = '../FinalDFs/PostWrangling/bowling_merged.pkl'\n",
    "with open(bowler_pkl_path, 'wb') as f:\n",
    "    pickle.dump(merged_bowler_data, f)"
   ]
  }
 ],
 "metadata": {
  "kernelspec": {
   "display_name": "base",
   "language": "python",
   "name": "python3"
  },
  "language_info": {
   "codemirror_mode": {
    "name": "ipython",
    "version": 3
   },
   "file_extension": ".py",
   "mimetype": "text/x-python",
   "name": "python",
   "nbconvert_exporter": "python",
   "pygments_lexer": "ipython3",
   "version": "3.9.13 (main, Aug 25 2022, 18:29:29) \n[Clang 12.0.0 ]"
  },
  "orig_nbformat": 4,
  "vscode": {
   "interpreter": {
    "hash": "095e2509baaee9ba3031fb48220a21a82361c2648fe49d4bd4b3ee0a0aa97fc1"
   }
  }
 },
 "nbformat": 4,
 "nbformat_minor": 2
}

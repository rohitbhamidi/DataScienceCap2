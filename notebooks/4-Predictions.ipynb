{
 "cells": [
  {
   "cell_type": "code",
   "execution_count": 1,
   "metadata": {},
   "outputs": [],
   "source": [
    "import pickle\n",
    "import numpy as np\n",
    "import pandas as pd\n",
    "from pandas.errors import SettingWithCopyWarning\n",
    "\n",
    "from sklearn.svm import SVR\n",
    "from sklearn.preprocessing import StandardScaler\n",
    "\n",
    "import warnings\n",
    "warnings.filterwarnings(\"ignore\", category=UserWarning)\n",
    "warnings.filterwarnings(\"ignore\", category=SettingWithCopyWarning)"
   ]
  },
  {
   "attachments": {},
   "cell_type": "markdown",
   "metadata": {},
   "source": [
    "# **Loading the Models**"
   ]
  },
  {
   "cell_type": "code",
   "execution_count": 2,
   "metadata": {},
   "outputs": [],
   "source": [
    "batting_filepath = '../model-files/trained_batting_model.pkl'\n",
    "with open(batting_filepath, 'rb') as f:\n",
    "    batting_model = pickle.load(f)"
   ]
  },
  {
   "cell_type": "code",
   "execution_count": 3,
   "metadata": {},
   "outputs": [],
   "source": [
    "bowling_filepath = '../model-files/trained_bowling_model.pkl'\n",
    "with open(bowling_filepath, 'rb') as f:\n",
    "    bowling_model = pickle.load(f)"
   ]
  },
  {
   "cell_type": "code",
   "execution_count": 4,
   "metadata": {},
   "outputs": [],
   "source": [
    "batting_scaler_filepath = '../model-files/trained_batting_scaler.pkl'\n",
    "with open(batting_scaler_filepath, 'rb') as f:\n",
    "    batting_scaler = pickle.load(f)"
   ]
  },
  {
   "cell_type": "code",
   "execution_count": 5,
   "metadata": {},
   "outputs": [],
   "source": [
    "bowling_scaler_filepath = '../model-files/trained_bowling_scaler.pkl'\n",
    "with open(bowling_scaler_filepath, 'rb') as f:\n",
    "    bowling_scaler = pickle.load(f)"
   ]
  },
  {
   "cell_type": "code",
   "execution_count": 6,
   "metadata": {},
   "outputs": [],
   "source": [
    "batting_selector_filepath = '../model-files/trained_batting_selector.pkl'\n",
    "with open(batting_selector_filepath, 'rb') as f:\n",
    "    batting_selector = pickle.load(f)"
   ]
  },
  {
   "cell_type": "code",
   "execution_count": 7,
   "metadata": {},
   "outputs": [],
   "source": [
    "bowling_selector_filepath = '../model-files/trained_bowling_selector.pkl'\n",
    "with open(bowling_selector_filepath, 'rb') as f:\n",
    "    bowling_selector = pickle.load(f)"
   ]
  },
  {
   "cell_type": "code",
   "execution_count": 8,
   "metadata": {},
   "outputs": [],
   "source": [
    "batting_df = pd.read_pickle('../FinalDFs/PostEDA/batting_df.pkl')\n",
    "bowling_df = pd.read_pickle('../FinalDFs/PostEDA/bowling_df.pkl')"
   ]
  },
  {
   "attachments": {},
   "cell_type": "markdown",
   "metadata": {},
   "source": [
    "# **Making the Predict Function**"
   ]
  },
  {
   "cell_type": "code",
   "execution_count": 9,
   "metadata": {},
   "outputs": [],
   "source": [
    "class InputNewData:\n",
    "    '''Inputs new data in the same format as the orignal dataframe.'''\n",
    "    def __init__(self, data_template):\n",
    "        self.data_template = data_template\n",
    "\n",
    "    def add_new_row(self, data_values):\n",
    "        new_data = pd.DataFrame([data_values], columns=[col for col in self.data_template.columns])\n",
    "        return new_data"
   ]
  },
  {
   "cell_type": "code",
   "execution_count": 10,
   "metadata": {},
   "outputs": [],
   "source": [
    "class PreprocessingPipeline:\n",
    "    '''Performs preprocessing of the data.'''\n",
    "    def __init__(self, new_data_df, role_scaler, role_selector, role_col_list):\n",
    "        self.new_data_df = new_data_df\n",
    "        self.scaler = role_scaler\n",
    "        self.selector = role_selector\n",
    "        self.role_col_list = role_col_list\n",
    "\n",
    "    def preprocess_data(self):\n",
    "        scaled_df, _ = self._scale_numeric_columns(self.new_data_df)\n",
    "        scaled_dummy_df = self._get_categorical_dummies(scaled_df)\n",
    "        dropped_df = scaled_dummy_df.drop(columns=['Player', 'NY_SalaryUSD'])\n",
    "        reordered_df = self._reorder_columns(dropped_df)\n",
    "        preprocessed_df = self.selector.transform(reordered_df)\n",
    "        return preprocessed_df\n",
    "    \n",
    "    def _scale_numeric_columns(self, data_df):\n",
    "        numeric_columns = [col for col in data_df.select_dtypes(include=[np.number]).columns if col not in ['Season', 'Role', 'changed_teams']]\n",
    "        data_df[numeric_columns] = self.scaler.transform(data_df[numeric_columns])\n",
    "        return data_df, data_df[numeric_columns]\n",
    "    \n",
    "    def _get_categorical_dummies(self, data_df):\n",
    "        dummy_df = pd.get_dummies(data_df, columns=['Country', 'Team'])\n",
    "        dummy_cols_with_zero = [col for col in self.role_col_list if col not in dummy_df.columns]\n",
    "        for col in dummy_cols_with_zero:\n",
    "            dummy_df[col] = 0\n",
    "        return dummy_df\n",
    "    \n",
    "    def _reorder_columns(self, data_df):\n",
    "        desired_order = self.role_col_list\n",
    "        remaining_cols = [col for col in data_df.columns if col not in desired_order]\n",
    "        reordered_df = data_df[remaining_cols+desired_order]\n",
    "        return reordered_df"
   ]
  },
  {
   "cell_type": "code",
   "execution_count": 11,
   "metadata": {},
   "outputs": [],
   "source": [
    "def predict_salary(data, role):\n",
    "    \n",
    "    if role=='batting':\n",
    "        data_template = batting_df.copy()\n",
    "        role_scaler = batting_scaler\n",
    "        role_selector = batting_selector\n",
    "        model = batting_model\n",
    "        country_and_team_dummies = ['Country_Afghanistan', 'Country_Australia', 'Country_Bangladesh',\n",
    "        'Country_England', 'Country_India', 'Country_Netherlands',\n",
    "        'Country_New Zealand', 'Country_Pakistan', 'Country_South Africa',\n",
    "        'Country_Sri Lanka', 'Country_Uncapped', 'Country_West Indies',\n",
    "        'Team_Chennai Super Kings', 'Team_Deccan Chargers',\n",
    "        'Team_Delhi Capitals', 'Team_Delhi Daredevils', 'Team_Gujarat Lions',\n",
    "        'Team_Kings XI Punjab', 'Team_Kochi Tuskers Kerala',\n",
    "        'Team_Kolkata Knight Riders', 'Team_Mumbai Indians',\n",
    "        'Team_Pune Warriors', 'Team_Rajasthan Royals',\n",
    "        'Team_Rising Pune Supergiants', 'Team_Royal Challengers Bangalore',\n",
    "        'Team_Sunrisers Hyderabad']\n",
    "    elif role=='bowling':\n",
    "        data_template = bowling_df.copy()\n",
    "        role_scaler = bowling_scaler\n",
    "        role_selector = bowling_selector\n",
    "        model = bowling_model\n",
    "        country_and_team_dummies = ['Country_Afghanistan', 'Country_Australia',\n",
    "       'Country_Bangladesh', 'Country_England', 'Country_India',\n",
    "       'Country_Nepal', 'Country_Netherlands', 'Country_New Zealand',\n",
    "       'Country_Pakistan', 'Country_South Africa', 'Country_Sri Lanka',\n",
    "       'Country_Uncapped', 'Country_West Indies', 'Team_Chennai Super Kings',\n",
    "       'Team_Deccan Chargers', 'Team_Delhi Capitals', 'Team_Delhi Daredevils',\n",
    "       'Team_Gujarat Lions', 'Team_Kings XI Punjab',\n",
    "       'Team_Kochi Tuskers Kerala', 'Team_Kolkata Knight Riders',\n",
    "       'Team_Mumbai Indians', 'Team_Pune Warriors', 'Team_Rajasthan Royals',\n",
    "       'Team_Rising Pune Supergiants', 'Team_Royal Challengers Bangalore',\n",
    "       'Team_Sunrisers Hyderabad']\n",
    "    else:\n",
    "        print(f'Role cannot be {role}. It can only be \"bowling\" or \"batting\".')\n",
    "    \n",
    "    inputer = InputNewData(data_template=data_template)\n",
    "    new_data_df = inputer.add_new_row(data)\n",
    "\n",
    "    preprocessor = PreprocessingPipeline(\n",
    "        new_data_df=new_data_df,\n",
    "        role_scaler=role_scaler,\n",
    "        role_col_list=country_and_team_dummies,\n",
    "        role_selector=role_selector\n",
    "    )\n",
    "    model_input = preprocessor.preprocess_data()\n",
    "    y_pred = model.predict(model_input)\n",
    "    _, scaler_input = preprocessor._scale_numeric_columns(new_data_df)\n",
    "    scaler_input['NY_SalaryUSD'] = y_pred[0]\n",
    "    pred_salary = role_scaler.inverse_transform(scaler_input)[0][-1]\n",
    "    return pred_salary"
   ]
  },
  {
   "attachments": {},
   "cell_type": "markdown",
   "metadata": {},
   "source": [
    "# **Test Predictions**"
   ]
  },
  {
   "cell_type": "code",
   "execution_count": 27,
   "metadata": {},
   "outputs": [],
   "source": [
    "sample_bat_data = [\n",
    "    'Shubman Gill', 'India', 0, 2023, 'Kolkata Knight Riders', 963501.60,\n",
    "    17, 5, 564, 890, 59.33, \n",
    "    157.80, 4, 3, 85, 33, 0,\n",
    "    0\n",
    "]"
   ]
  },
  {
   "cell_type": "code",
   "execution_count": 28,
   "metadata": {},
   "outputs": [],
   "source": [
    "sample_bat_salary = predict_salary(sample_bat_data, 'batting')"
   ]
  },
  {
   "cell_type": "code",
   "execution_count": 29,
   "metadata": {},
   "outputs": [
    {
     "data": {
      "text/plain": [
       "977323.0334347271"
      ]
     },
     "execution_count": 29,
     "metadata": {},
     "output_type": "execute_result"
    }
   ],
   "source": [
    "sample_bat_salary"
   ]
  },
  {
   "cell_type": "code",
   "execution_count": 21,
   "metadata": {},
   "outputs": [],
   "source": [
    "sample_bowl_data = [\n",
    "    'Umran Malik', 'India', 0, 2022, 'Sunrisers Hyderabad', 481914.00,\n",
    "    14, 2, 295, 444, \n",
    "    22, 20.18, 9.03, 13.40, 1,\n",
    "    1, 20, 20, 40, 0, 0\n",
    "]"
   ]
  },
  {
   "cell_type": "code",
   "execution_count": 22,
   "metadata": {},
   "outputs": [],
   "source": [
    "sample_bowl_salary = predict_salary(sample_bowl_data, 'bowling')"
   ]
  },
  {
   "cell_type": "code",
   "execution_count": 23,
   "metadata": {},
   "outputs": [
    {
     "data": {
      "text/plain": [
       "483044.7507882039"
      ]
     },
     "execution_count": 23,
     "metadata": {},
     "output_type": "execute_result"
    }
   ],
   "source": [
    "sample_bowl_salary"
   ]
  }
 ],
 "metadata": {
  "kernelspec": {
   "display_name": "Python 3",
   "language": "python",
   "name": "python3"
  },
  "language_info": {
   "codemirror_mode": {
    "name": "ipython",
    "version": 3
   },
   "file_extension": ".py",
   "mimetype": "text/x-python",
   "name": "python",
   "nbconvert_exporter": "python",
   "pygments_lexer": "ipython3",
   "version": "3.11.1 (v3.11.1:a7a450f84a, Dec  6 2022, 15:24:06) [Clang 13.0.0 (clang-1300.0.29.30)]"
  },
  "orig_nbformat": 4,
  "vscode": {
   "interpreter": {
    "hash": "aee8b7b246df8f9039afb4144a1f6fd8d2ca17a180786b69acc140d282b71a49"
   }
  }
 },
 "nbformat": 4,
 "nbformat_minor": 2
}

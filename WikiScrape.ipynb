{
 "cells": [
  {
   "attachments": {},
   "cell_type": "markdown",
   "metadata": {},
   "source": [
    "# Scraping CricMetric for the Player Role and Country Information"
   ]
  },
  {
   "attachments": {},
   "cell_type": "markdown",
   "metadata": {},
   "source": [
    "This code performs web scraping to gather country and role information for a list of cricket players. It utilizes the `requests` library to retrieve web page content, the `BeautifulSoup` library to parse the HTML, and the `pandas` library to manipulate and store the extracted data. The list of player names is loaded from a pickle file, and then the `country_and_role` function is applied to each player to obtain their country and role information. The results are concatenated into a single dataframe, sorted, and saved as a CSV file. The generated CSV file can be used for further analysis and data wrangling in the notebook `1-DataWrangling.ipynb`."
   ]
  },
  {
   "cell_type": "code",
   "execution_count": 2,
   "metadata": {},
   "outputs": [],
   "source": [
    "import requests\n",
    "from bs4 import BeautifulSoup\n",
    "import pandas as pd\n",
    "import pickle"
   ]
  },
  {
   "cell_type": "code",
   "execution_count": 3,
   "metadata": {},
   "outputs": [],
   "source": [
    "international_list = ['Afghanistan', 'Australia', 'Bangladesh', 'England', 'India', 'Ireland', 'New Zealand', 'Pakistan', 'South Africa', 'Sri Lanka', 'West Indies', 'Zimbabwe', 'Nepal', 'Netherlands', 'Scotland']"
   ]
  },
  {
   "cell_type": "code",
   "execution_count": null,
   "metadata": {},
   "outputs": [],
   "source": [
    "def country_and_role(name):\n",
    "    # Replace spaces in the input name with '+'\n",
    "    input_name = name.replace(' ', '+')\n",
    "\n",
    "    # Construct the URL for the player's stats page\n",
    "    url = f'http://www.cricmetric.com/playerstats.py?player={input_name}&role=all&format=all&groupby=year'\n",
    "    \n",
    "    # Send a GET request to retrieve the web page content\n",
    "    response = requests.get(url)\n",
    "\n",
    "    # Create a BeautifulSoup object to parse the HTML content\n",
    "    soup = BeautifulSoup(response.text, 'html.parser')\n",
    "\n",
    "    # Find the element containing 'Teams played for'\n",
    "    country_element = soup.find('b', string='Teams played for')\n",
    "\n",
    "    if country_element:\n",
    "        # Find the next sibling element after 'Teams played for'\n",
    "        player_country_element = country_element.find_next_sibling('a')\n",
    "        \n",
    "        if player_country_element:\n",
    "            # Extract the country text from the sibling element\n",
    "            player_country = player_country_element.text.strip()\n",
    "\n",
    "            # Check if the country is in the international list\n",
    "            if player_country not in international_list:\n",
    "                player_country = 'Uncapped'\n",
    "    else:\n",
    "        player_country = 'Uncapped'\n",
    "\n",
    "    # Find the element containing 'Role'\n",
    "    role_element = soup.find('b', string='Role')\n",
    "\n",
    "    if role_element:\n",
    "        # Extract the text next to 'Role' element\n",
    "        role_text = role_element.next_sibling.strip(': ')\n",
    "    else:\n",
    "        role_text = ''\n",
    "\n",
    "    # Create a DataFrame with the player's name, role, and country\n",
    "    country_and_role_df = pd.DataFrame({'Player': [name], 'Role': [role_text], 'Country': [player_country]})\n",
    "    \n",
    "    return country_and_role_df"
   ]
  },
  {
   "cell_type": "code",
   "execution_count": null,
   "metadata": {},
   "outputs": [],
   "source": [
    "# Load the list from the file\n",
    "pkl_path = './ipl-player-salary/new_player_list.pkl'\n",
    "with open(pkl_path, 'rb') as f:\n",
    "    new_player_list = pickle.load(f)"
   ]
  },
  {
   "cell_type": "code",
   "execution_count": null,
   "metadata": {},
   "outputs": [],
   "source": [
    "player_country_role_df_list = []\n",
    "for player in new_player_list:\n",
    "    player_country_role_df_list.append(country_and_role(player))"
   ]
  },
  {
   "cell_type": "code",
   "execution_count": null,
   "metadata": {},
   "outputs": [],
   "source": [
    "# Concatenate the list of dataframes into a single dataframe\n",
    "player_country_role_df = pd.concat(player_country_role_df_list)\n",
    "\n",
    "# Reset the index of the combined dataframe\n",
    "player_country_role_df = player_country_role_df.reset_index(drop=True)\n",
    "\n",
    "player_country_role_df = player_country_role_df.sort_values(['Country', 'Role'])\n",
    "\n",
    "# Save the dataframe for use in the 1-DataWrangling notebook\n",
    "# define a filepath\n",
    "filepath = './ipl-player-salary/player_country_role.txt'\n",
    "player_country_role_df.to_csv(filepath, index=False)"
   ]
  }
 ],
 "metadata": {
  "kernelspec": {
   "display_name": "base",
   "language": "python",
   "name": "python3"
  },
  "language_info": {
   "codemirror_mode": {
    "name": "ipython",
    "version": 3
   },
   "file_extension": ".py",
   "mimetype": "text/x-python",
   "name": "python",
   "nbconvert_exporter": "python",
   "pygments_lexer": "ipython3",
   "version": "3.9.13 (main, Aug 25 2022, 18:29:29) \n[Clang 12.0.0 ]"
  },
  "orig_nbformat": 4,
  "vscode": {
   "interpreter": {
    "hash": "095e2509baaee9ba3031fb48220a21a82361c2648fe49d4bd4b3ee0a0aa97fc1"
   }
  }
 },
 "nbformat": 4,
 "nbformat_minor": 2
}

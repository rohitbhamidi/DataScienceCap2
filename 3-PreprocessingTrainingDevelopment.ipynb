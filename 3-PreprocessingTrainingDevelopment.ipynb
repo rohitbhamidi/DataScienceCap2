{
 "cells": [
  {
   "cell_type": "code",
   "execution_count": 16,
   "metadata": {},
   "outputs": [],
   "source": [
    "import numpy as np\n",
    "import pandas as pd\n",
    "\n",
    "from sklearn.preprocessing import StandardScaler, PolynomialFeatures\n",
    "from sklearn.model_selection import train_test_split, GridSearchCV, RandomizedSearchCV\n",
    "from sklearn.feature_selection import SelectKBest, f_regression\n",
    "from sklearn.linear_model import LinearRegression, Ridge\n",
    "from sklearn.pipeline import Pipeline\n",
    "from sklearn.tree import DecisionTreeRegressor\n",
    "from sklearn.ensemble import RandomForestRegressor\n",
    "from sklearn.metrics import mean_squared_error, mean_absolute_error, r2_score\n",
    "\n",
    "from sklearn.exceptions import ConvergenceWarning\n",
    "import warnings\n",
    "\n",
    "from tqdm import tqdm"
   ]
  },
  {
   "cell_type": "code",
   "execution_count": 2,
   "metadata": {},
   "outputs": [],
   "source": [
    "filepath = './FinalDFs/PostEDA/'\n",
    "\n",
    "batting_df = pd.read_pickle(filepath+'batting_filtered.pkl')\n",
    "bowling_df = pd.read_pickle(filepath+'bowling_filtered.pkl')"
   ]
  },
  {
   "attachments": {},
   "cell_type": "markdown",
   "metadata": {},
   "source": [
    "# **Part 1: Data Preprocessing**"
   ]
  },
  {
   "attachments": {},
   "cell_type": "markdown",
   "metadata": {},
   "source": [
    "## **(I) Dropping Irrelevant Columns**"
   ]
  },
  {
   "attachments": {},
   "cell_type": "markdown",
   "metadata": {},
   "source": [
    "As we saw in our EDA notebook, there were quite a few of the numeric variables that were very closely related to each other. For example, in `batting_df`, the columns with `balls_faced` and `total_runs` had very high correlation numbers. Therefore, we will exclude one of these sets from our analysis."
   ]
  },
  {
   "cell_type": "code",
   "execution_count": 3,
   "metadata": {},
   "outputs": [],
   "source": [
    "bat_cols_to_drop = ['NY_SalaryUSD', 'balls_faced_1', 'balls_faced_2', 'balls_faced_3', 'boundary_prob_1', 'boundary_prob_2', 'boundary_prob_3']\n",
    "batting_df = batting_df.drop(columns=bat_cols_to_drop)"
   ]
  },
  {
   "cell_type": "code",
   "execution_count": 4,
   "metadata": {},
   "outputs": [
    {
     "name": "stdout",
     "output_type": "stream",
     "text": [
      "Highly Correlated Features:\n"
     ]
    }
   ],
   "source": [
    "bat_corr = batting_df.corr()\n",
    "\n",
    "threshold = 0.8 \n",
    "highly_correlated_features = set()\n",
    "\n",
    "# Iterate through the correlation matrix\n",
    "for i in range(len(bat_corr.columns)):\n",
    "    for j in range(i):\n",
    "        if abs(bat_corr.iloc[i, j]) > threshold:\n",
    "            # Add the feature names to the set of highly correlated features\n",
    "            feature_i = bat_corr.columns[i]\n",
    "            feature_j = bat_corr.columns[j]\n",
    "            highly_correlated_features.add((feature_i, feature_j))\n",
    "\n",
    "print(\"Highly Correlated Features:\")\n",
    "for feature_pair in highly_correlated_features:\n",
    "    print(feature_pair)"
   ]
  },
  {
   "cell_type": "code",
   "execution_count": 5,
   "metadata": {},
   "outputs": [],
   "source": [
    "bowl_cols_to_drop = ['NY_SalaryUSD', 'balls_bowled_1', 'balls_bowled_2', 'balls_bowled_3', 'boundary_prob_1', 'boundary_prob_2', 'boundary_prob_3']\n",
    "bowling_df = bowling_df.drop(columns=bowl_cols_to_drop)"
   ]
  },
  {
   "cell_type": "code",
   "execution_count": 6,
   "metadata": {},
   "outputs": [
    {
     "name": "stdout",
     "output_type": "stream",
     "text": [
      "Highly Correlated Features:\n",
      "('strike_rate_3', 'bowling_avg_3')\n",
      "('strike_rate_2', 'bowling_avg_2')\n",
      "('strike_rate_1', 'bowling_avg_1')\n"
     ]
    }
   ],
   "source": [
    "bowl_corr = bowling_df.corr()\n",
    "\n",
    "threshold = 0.8 \n",
    "highly_correlated_features = set()\n",
    "\n",
    "# Iterate through the correlation matrix\n",
    "for i in range(len(bowl_corr.columns)):\n",
    "    for j in range(i):\n",
    "        if abs(bowl_corr.iloc[i, j]) > threshold:\n",
    "            # Add the feature names to the set of highly correlated features\n",
    "            feature_i = bowl_corr.columns[i]\n",
    "            feature_j = bowl_corr.columns[j]\n",
    "            highly_correlated_features.add((feature_i, feature_j))\n",
    "\n",
    "print(\"Highly Correlated Features:\")\n",
    "for feature_pair in highly_correlated_features:\n",
    "    print(feature_pair)"
   ]
  },
  {
   "cell_type": "code",
   "execution_count": 7,
   "metadata": {},
   "outputs": [],
   "source": [
    "bowling_df = bowling_df.drop(columns=['strike_rate_1', 'strike_rate_2', 'strike_rate_3'])"
   ]
  },
  {
   "attachments": {},
   "cell_type": "markdown",
   "metadata": {},
   "source": [
    "## **(II) Scaling the Numeric Columns**"
   ]
  },
  {
   "attachments": {},
   "cell_type": "markdown",
   "metadata": {},
   "source": [
    "The next step is to scale the numeric columns using the `StandardScaler`."
   ]
  },
  {
   "cell_type": "code",
   "execution_count": 8,
   "metadata": {},
   "outputs": [],
   "source": [
    "scaler = StandardScaler()\n",
    "\n",
    "bat_num_cols = [col for col in batting_df.select_dtypes(include=[np.number]).columns if col not in ['Season', 'Role', 'changed_teams']]\n",
    "bowl_num_cols = [col for col in bowling_df.select_dtypes(include=[np.number]).columns if col not in ['Season', 'Role', 'changed_teams']]"
   ]
  },
  {
   "cell_type": "code",
   "execution_count": 9,
   "metadata": {},
   "outputs": [],
   "source": [
    "batting_df[bat_num_cols] = scaler.fit_transform(batting_df[bat_num_cols])\n",
    "bowling_df[bowl_num_cols] = scaler.fit_transform(bowling_df[bowl_num_cols])"
   ]
  },
  {
   "attachments": {},
   "cell_type": "markdown",
   "metadata": {},
   "source": [
    "## **(III) Getting Dummies for the Categorical Columns**"
   ]
  },
  {
   "attachments": {},
   "cell_type": "markdown",
   "metadata": {},
   "source": [
    "The final step in data preprocessing is getting dummies for the categorical columns."
   ]
  },
  {
   "cell_type": "code",
   "execution_count": 10,
   "metadata": {},
   "outputs": [],
   "source": [
    "batting_df = pd.get_dummies(batting_df, columns=['Country', 'Team'])"
   ]
  },
  {
   "cell_type": "code",
   "execution_count": 11,
   "metadata": {},
   "outputs": [],
   "source": [
    "bowling_df = pd.get_dummies(bowling_df, columns=['Country', 'Team'])"
   ]
  },
  {
   "attachments": {},
   "cell_type": "markdown",
   "metadata": {},
   "source": [
    "# **Part 2: Train-Test Split**"
   ]
  },
  {
   "cell_type": "code",
   "execution_count": 59,
   "metadata": {},
   "outputs": [],
   "source": [
    "batting_df = batting_df.sort_values(by='Season')\n",
    "bowling_df = bowling_df.sort_values(by='Season')"
   ]
  },
  {
   "cell_type": "code",
   "execution_count": 12,
   "metadata": {},
   "outputs": [],
   "source": [
    "# batting_train, batting_test = train_test_split(batting_df, test_size=.2)\n",
    "# bowling_train, bowling_test = train_test_split(bowling_df, test_size=.2)\n",
    "\n",
    "batting_train = batting_df[batting_df.Season <=2017]\n",
    "batting_test = batting_df[batting_df.Season > 2017]"
   ]
  },
  {
   "cell_type": "code",
   "execution_count": 58,
   "metadata": {},
   "outputs": [],
   "source": [
    "# batting_train.to_pickle('./FinalDFs/TrainTestSplit/batting_train.pkl')\n",
    "# batting_test.to_pickle('./FinalDFs/TrainTestSplit/batting_test.pkl')"
   ]
  },
  {
   "cell_type": "code",
   "execution_count": 59,
   "metadata": {},
   "outputs": [],
   "source": [
    "# bowling_train.to_pickle('./FinalDFs/TrainTestSplit/bowling_train.pkl')\n",
    "# bowling_test.to_pickle('./FinalDFs/TrainTestSplit/bowling_test.pkl')"
   ]
  },
  {
   "cell_type": "code",
   "execution_count": 13,
   "metadata": {},
   "outputs": [],
   "source": [
    "X_train_bat = batting_train.drop(columns=['Player', 'salary_diff'])\n",
    "y_train_bat = batting_train['salary_diff']\n",
    "\n",
    "X_test_bat = batting_test.drop(columns=['Player', 'salary_diff'])\n",
    "y_test_bat = batting_test['salary_diff']"
   ]
  },
  {
   "cell_type": "code",
   "execution_count": 76,
   "metadata": {},
   "outputs": [],
   "source": [
    "# X_train_bowl = bowling_train.drop(columns=['Player', 'salary_diff'])\n",
    "# y_train_bowl = bowling_train['salary_diff']\n",
    "\n",
    "# X_test_bowl = bowling_test.drop(columns=['Player', 'salary_diff'])\n",
    "# y_test_bowl = bowling_test['salary_diff']"
   ]
  },
  {
   "attachments": {},
   "cell_type": "markdown",
   "metadata": {},
   "source": [
    "# **Part 3: Batting Models**"
   ]
  },
  {
   "cell_type": "code",
   "execution_count": 14,
   "metadata": {},
   "outputs": [
    {
     "name": "stdout",
     "output_type": "stream",
     "text": [
      "Mean-Based Model:\n",
      "MAE: 0.2398704733761003\n",
      "MSE: 0.2246048756962985\n",
      "R^2: -0.19181353807481316\n"
     ]
    }
   ],
   "source": [
    "mean_target = y_train_bat.mean()\n",
    "\n",
    "y_pred_mean = np.full(y_test_bat.shape, mean_target)\n",
    "\n",
    "mae_mean = mean_absolute_error(y_test_bat, y_pred_mean)\n",
    "mse_mean = mean_squared_error(y_test_bat, y_pred_mean)\n",
    "r2_mean = r2_score(y_test_bat, y_pred_mean)\n",
    "\n",
    "print(\"Mean-Based Model:\")\n",
    "print(\"MAE:\", mae_mean)\n",
    "print(\"MSE:\", mse_mean)\n",
    "print(\"R^2:\", r2_mean)"
   ]
  },
  {
   "cell_type": "code",
   "execution_count": 15,
   "metadata": {},
   "outputs": [
    {
     "name": "stdout",
     "output_type": "stream",
     "text": [
      "\n",
      "Linear Regression Model:\n",
      "MAE: 0.5583367658800904\n",
      "MSE: 0.4961853514368858\n",
      "R^2: -1.6328921729931754\n"
     ]
    }
   ],
   "source": [
    "linear_model = LinearRegression()\n",
    "linear_model.fit(X_train_bat, y_train_bat)\n",
    "y_pred_linear = linear_model.predict(X_test_bat)\n",
    "\n",
    "mae_linear = mean_absolute_error(y_test_bat, y_pred_linear)\n",
    "mse_linear = mean_squared_error(y_test_bat, y_pred_linear)\n",
    "r2_linear = r2_score(y_test_bat, y_pred_linear)\n",
    "\n",
    "print(\"\\nLinear Regression Model:\")\n",
    "print(\"MAE:\", mae_linear)\n",
    "print(\"MSE:\", mse_linear)\n",
    "print(\"R^2:\", r2_linear)"
   ]
  },
  {
   "cell_type": "code",
   "execution_count": 24,
   "metadata": {},
   "outputs": [],
   "source": [
    "constant_feature_mask = X_train_bat.apply(lambda col: col.nunique() != 1)\n",
    "X_train_bat = X_train_bat.loc[:, constant_feature_mask]\n",
    "X_test_bat = X_test_bat.loc[:, constant_feature_mask]"
   ]
  },
  {
   "cell_type": "code",
   "execution_count": 25,
   "metadata": {},
   "outputs": [],
   "source": [
    "k=10\n",
    "selector = SelectKBest(score_func=f_regression, k=k)\n",
    "\n",
    "X_train_bat_selected = selector.fit_transform(X_train_bat, y_train_bat)\n",
    "X_test_bat_selected = selector.transform(X_test_bat)\n",
    "\n",
    "selected_feature_indices = selector.get_support(indices=True)\n",
    "selected_feature_names = X_train_bat.columns[selected_feature_indices]"
   ]
  },
  {
   "cell_type": "code",
   "execution_count": 27,
   "metadata": {},
   "outputs": [
    {
     "name": "stdout",
     "output_type": "stream",
     "text": [
      "\n",
      "Linear Regression Model with Selected Features:\n",
      "Selected Features: Index(['SalaryUSD', 'SeasonCount', 'total_runs_2', 'total_runs_3',\n",
      "       'batting_avg_3', 'strike_rate_2', 'strike_rate_3', 'changed_teams',\n",
      "       'Team_Kochi Tuskers Kerala', 'Team_Rajasthan Royals'],\n",
      "      dtype='object')\n",
      "MAE: 0.46211888005134716\n",
      "MSE: 0.38145948588299555\n",
      "R^2: -1.0241260484351296\n"
     ]
    }
   ],
   "source": [
    "linear_model_selected = LinearRegression()\n",
    "linear_model_selected.fit(X_train_bat_selected, y_train_bat)\n",
    "y_pred_linear_selected = linear_model_selected.predict(X_test_bat_selected)\n",
    "\n",
    "mae_linear_selected = mean_absolute_error(y_test_bat, y_pred_linear_selected)\n",
    "mse_linear_selected = mean_squared_error(y_test_bat, y_pred_linear_selected)\n",
    "r2_linear_selected = r2_score(y_test_bat, y_pred_linear_selected)\n",
    "\n",
    "print(\"\\nLinear Regression Model with Selected Features:\")\n",
    "print(\"Selected Features:\", selected_feature_names)\n",
    "print(\"MAE:\", mae_linear_selected)\n",
    "print(\"MSE:\", mse_linear_selected)\n",
    "print(\"R^2:\", r2_linear_selected)"
   ]
  }
 ],
 "metadata": {
  "kernelspec": {
   "display_name": "base",
   "language": "python",
   "name": "python3"
  },
  "language_info": {
   "codemirror_mode": {
    "name": "ipython",
    "version": 3
   },
   "file_extension": ".py",
   "mimetype": "text/x-python",
   "name": "python",
   "nbconvert_exporter": "python",
   "pygments_lexer": "ipython3",
   "version": "3.9.13"
  },
  "orig_nbformat": 4,
  "vscode": {
   "interpreter": {
    "hash": "095e2509baaee9ba3031fb48220a21a82361c2648fe49d4bd4b3ee0a0aa97fc1"
   }
  }
 },
 "nbformat": 4,
 "nbformat_minor": 2
}

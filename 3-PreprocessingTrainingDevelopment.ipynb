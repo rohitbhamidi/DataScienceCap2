{
 "cells": [
  {
   "cell_type": "code",
   "execution_count": 54,
   "metadata": {},
   "outputs": [],
   "source": [
    "import numpy as np\n",
    "import pandas as pd\n",
    "\n",
    "from sklearn.preprocessing import StandardScaler\n",
    "from sklearn.model_selection import train_test_split"
   ]
  },
  {
   "cell_type": "code",
   "execution_count": 47,
   "metadata": {},
   "outputs": [],
   "source": [
    "filepath = './FinalDFs/PostEDA/'\n",
    "\n",
    "batting_df = pd.read_pickle(filepath+'batting_filtered.pkl')\n",
    "bowling_df = pd.read_pickle(filepath+'bowling_filtered.pkl')"
   ]
  },
  {
   "attachments": {},
   "cell_type": "markdown",
   "metadata": {},
   "source": [
    "# **Part 1: Data Preprocessing**"
   ]
  },
  {
   "attachments": {},
   "cell_type": "markdown",
   "metadata": {},
   "source": [
    "## **(I) Dropping Irrelevant Columns**"
   ]
  },
  {
   "attachments": {},
   "cell_type": "markdown",
   "metadata": {},
   "source": [
    "As we saw in our EDA notebook, there were quite a few of the numeric variables that were very closely related to each other. For example, in `batting_df`, the columns with `balls_faced` and `total_runs` had very high correlation numbers. Therefore, we will exclude one of these sets from our analysis."
   ]
  },
  {
   "cell_type": "code",
   "execution_count": 48,
   "metadata": {},
   "outputs": [],
   "source": [
    "bat_cols_to_drop = ['SalaryUSD', 'NY_SalaryUSD', 'Season', 'balls_faced_1', 'balls_faced_2', 'balls_faced_3', 'boundary_prob_1', 'boundary_prob_2', 'boundary_prob_3']\n",
    "batting_df = batting_df.drop(columns=bat_cols_to_drop)"
   ]
  },
  {
   "cell_type": "code",
   "execution_count": 49,
   "metadata": {},
   "outputs": [],
   "source": [
    "bowl_cols_to_drop = ['SalaryUSD', 'NY_SalaryUSD', 'Season', 'balls_bowled_1', 'balls_bowled_2', 'balls_bowled_3', 'boundary_prob_1', 'boundary_prob_2', 'boundary_prob_3']\n",
    "bowling_df = bowling_df.drop(columns=bowl_cols_to_drop)"
   ]
  },
  {
   "attachments": {},
   "cell_type": "markdown",
   "metadata": {},
   "source": [
    "## **(II) Scaling the Numeric Columns**"
   ]
  },
  {
   "attachments": {},
   "cell_type": "markdown",
   "metadata": {},
   "source": [
    "The next step is to scale the numeric columns using the `StandardScaler`."
   ]
  },
  {
   "cell_type": "code",
   "execution_count": 50,
   "metadata": {},
   "outputs": [],
   "source": [
    "scaler = StandardScaler()\n",
    "\n",
    "bat_num_cols = [col for col in batting_df.select_dtypes(include=[np.number]).columns if col not in ['Role', 'changed_teams']]\n",
    "bowl_num_cols = [col for col in bowling_df.select_dtypes(include=[np.number]).columns if col not in ['Role', 'changed_teams']]"
   ]
  },
  {
   "cell_type": "code",
   "execution_count": 51,
   "metadata": {},
   "outputs": [],
   "source": [
    "batting_df[bat_num_cols] = scaler.fit_transform(batting_df[bat_num_cols])\n",
    "bowling_df[bowl_num_cols] = scaler.fit_transform(bowling_df[bowl_num_cols])"
   ]
  },
  {
   "attachments": {},
   "cell_type": "markdown",
   "metadata": {},
   "source": [
    "## **(III) Getting Dummies for the Categorical Columns**"
   ]
  },
  {
   "attachments": {},
   "cell_type": "markdown",
   "metadata": {},
   "source": [
    "The final step in data preprocessing is getting dummies for the categorical columns."
   ]
  },
  {
   "cell_type": "code",
   "execution_count": 52,
   "metadata": {},
   "outputs": [],
   "source": [
    "batting_df = pd.get_dummies(batting_df, columns=['Country', 'Team'])"
   ]
  },
  {
   "cell_type": "code",
   "execution_count": 53,
   "metadata": {},
   "outputs": [],
   "source": [
    "bowling_df = pd.get_dummies(bowling_df, columns=['Country', 'Team'])"
   ]
  },
  {
   "attachments": {},
   "cell_type": "markdown",
   "metadata": {},
   "source": [
    "# **Part 2: Train-Test Split**"
   ]
  },
  {
   "cell_type": "code",
   "execution_count": 57,
   "metadata": {},
   "outputs": [],
   "source": [
    "batting_train, batting_test = train_test_split(batting_df, test_size=.2, random_state=42)\n",
    "bowling_train, bowling_test = train_test_split(bowling_df, test_size=.2, random_state=42)"
   ]
  },
  {
   "cell_type": "code",
   "execution_count": 58,
   "metadata": {},
   "outputs": [],
   "source": [
    "batting_train.to_pickle('./FinalDFs/TrainTestSplit/batting_train.pkl')\n",
    "batting_test.to_pickle('./FinalDFs/TrainTestSplit/batting_test.pkl')"
   ]
  },
  {
   "cell_type": "code",
   "execution_count": 59,
   "metadata": {},
   "outputs": [],
   "source": [
    "bowling_train.to_pickle('./FinalDFs/TrainTestSplit/bowling_train.pkl')\n",
    "bowling_test.to_pickle('./FinalDFs/TrainTestSplit/bowling_test.pkl')"
   ]
  }
 ],
 "metadata": {
  "kernelspec": {
   "display_name": "base",
   "language": "python",
   "name": "python3"
  },
  "language_info": {
   "codemirror_mode": {
    "name": "ipython",
    "version": 3
   },
   "file_extension": ".py",
   "mimetype": "text/x-python",
   "name": "python",
   "nbconvert_exporter": "python",
   "pygments_lexer": "ipython3",
   "version": "3.9.13"
  },
  "orig_nbformat": 4,
  "vscode": {
   "interpreter": {
    "hash": "095e2509baaee9ba3031fb48220a21a82361c2648fe49d4bd4b3ee0a0aa97fc1"
   }
  }
 },
 "nbformat": 4,
 "nbformat_minor": 2
}
